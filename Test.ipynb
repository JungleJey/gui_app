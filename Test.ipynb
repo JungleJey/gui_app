{
 "cells": [
  {
   "cell_type": "code",
   "execution_count": 1,
   "metadata": {},
   "outputs": [],
   "source": [
    "import gradio as gr\n",
    "import pandas as pd\n",
    "import sqlite3 \n",
    "     \n",
    "conn = sqlite3.connect('test.db') \n",
    "c = conn.cursor()\n",
    "c.execute('''CREATE TABLE my_table(id INTEGER,nome TEXT, cognome TEXT, eta INTEGER, PRIMARY KEY(\"id\" AUTOINCREMENT))''')\n",
    "c.execute(\"INSERT INTO my_table(nome,cognome,eta) VALUES(?,?,?)\",(\"TEST\",\"TEST\",33))\n",
    "conn.commit()\n",
    "conn.close()"
   ]
  },
  {
   "cell_type": "code",
   "execution_count": 2,
   "metadata": {},
   "outputs": [],
   "source": [
    "\n",
    "def insert_data_to_sqlite(nome, cognome, eta):       \n",
    "\tconn = sqlite3.connect('test.db') \n",
    "\tc = conn.cursor()\n",
    "\tc.execute(\"INSERT INTO my_table(nome,cognome,eta) VALUES(?,?,?)\",(nome,cognome,eta))\n",
    "\tconn.commit()\n",
    "\tconn.close()"
   ]
  },
  {
   "cell_type": "code",
   "execution_count": 3,
   "metadata": {},
   "outputs": [],
   "source": [
    "def visualize_data(): \n",
    "    conn = sqlite3.connect('test.db')\n",
    "    df = pd.read_sql_query(\"SELECT *FROM my_table\",conn)\n",
    "    conn.close()\n",
    "    return df\n",
    "\n",
    "\n"
   ]
  },
  {
   "cell_type": "code",
   "execution_count": 11,
   "metadata": {},
   "outputs": [],
   "source": [
    "insert_interface = gr.Interface(fn=insert_data_to_sqlite,\n",
    "                                inputs=[\"text\", \"text\", \"number\"],\n",
    "                                outputs=None,\n",
    "                                title=\"SQLite Data Insert Interface \",\n",
    "                                description=\"Insert data into sqlite\",\n",
    "                                allow_flagging=\"never\",\n",
    ")\n",
    "\n",
    "#insert_interface.launch()"
   ]
  },
  {
   "cell_type": "code",
   "execution_count": 14,
   "metadata": {},
   "outputs": [],
   "source": [
    "visualize_interface = gr.Interface(fn=visualize_data,\n",
    "                                inputs=None,\n",
    "                                outputs=gr.Dataframe(visualize_data()),\n",
    "                                allow_flagging=\"never\",\n",
    "                                )\n",
    "#visualize_interface.launch()"
   ]
  },
  {
   "cell_type": "code",
   "execution_count": 15,
   "metadata": {},
   "outputs": [
    {
     "name": "stdout",
     "output_type": "stream",
     "text": [
      "Running on local URL:  http://127.0.0.1:7863\n",
      "\n",
      "To create a public link, set `share=True` in `launch()`.\n"
     ]
    },
    {
     "data": {
      "text/html": [
       "<div><iframe src=\"http://127.0.0.1:7863/\" width=\"100%\" height=\"500\" allow=\"autoplay; camera; microphone; clipboard-read; clipboard-write;\" frameborder=\"0\" allowfullscreen></iframe></div>"
      ],
      "text/plain": [
       "<IPython.core.display.HTML object>"
      ]
     },
     "metadata": {},
     "output_type": "display_data"
    },
    {
     "data": {
      "text/plain": []
     },
     "execution_count": 15,
     "metadata": {},
     "output_type": "execute_result"
    }
   ],
   "source": [
    "app = gr.TabbedInterface(interface_list=[insert_interface,visualize_interface],\n",
    "                         tab_names = [\"Insert\",\"Read\"]\n",
    "                         )\n",
    "\n",
    "app.launch()\n",
    "\n"
   ]
  }
 ],
 "metadata": {
  "kernelspec": {
   "display_name": "Python 3",
   "language": "python",
   "name": "python3"
  },
  "language_info": {
   "codemirror_mode": {
    "name": "ipython",
    "version": 3
   },
   "file_extension": ".py",
   "mimetype": "text/x-python",
   "name": "python",
   "nbconvert_exporter": "python",
   "pygments_lexer": "ipython3",
   "version": "3.10.10"
  }
 },
 "nbformat": 4,
 "nbformat_minor": 2
}
